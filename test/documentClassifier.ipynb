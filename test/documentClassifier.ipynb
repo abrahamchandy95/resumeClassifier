{
 "cells": [
  {
   "cell_type": "code",
   "execution_count": 1,
   "id": "2d7fbbda-f88b-4368-8871-e863106fa723",
   "metadata": {},
   "outputs": [],
   "source": [
    "import os\n",
    "# set up the folders\n",
    "PROJECT_DIR = \"/Users/abraham/Documents/Work/Self/2024/resumeClassification\"\n",
    "datasets_dir = os.path.join(PROJECT_DIR, \"datasets\")\n",
    "os.makedirs(datasets_dir, exist_ok=True)"
   ]
  },
  {
   "cell_type": "code",
   "execution_count": 2,
   "id": "aa167c38-c1a0-4884-8305-62e6f6568a0f",
   "metadata": {},
   "outputs": [],
   "source": [
    "image_dir = os.path.join(datasets_dir, 'images')"
   ]
  },
  {
   "cell_type": "code",
   "execution_count": 3,
   "id": "045ad92f-2d55-4760-9b48-783d80925c72",
   "metadata": {},
   "outputs": [],
   "source": [
    "label_files = {\n",
    "    'train' : os.path.join(datasets_dir, 'labels', 'train.txt'),\n",
    "    'test' : os.path.join(datasets_dir, 'labels', 'test.txt'),\n",
    "    'val' : os.path.join(datasets_dir, 'labels', 'val.txt')\n",
    "}"
   ]
  },
  {
   "cell_type": "code",
   "execution_count": 4,
   "id": "c7dd9f2c-cf1c-4fae-a5a8-e84c42724049",
   "metadata": {},
   "outputs": [],
   "source": [
    "# label all images in the dataset\n",
    "labeled_images = {}\n",
    "for _, filepath in label_files.items():\n",
    "    with open(filepath, 'r') as f:\n",
    "        for line in f:\n",
    "            relative_path, label = line.strip().split(' ')\n",
    "            full_path = os.path.join(image_dir, relative_path)\n",
    "            # let resume be labeled 1 and others 0\n",
    "            # in the dataset, a label of 14 is indicative of resume\n",
    "            labeled_images[full_path] = 1 if label == '14' else 0"
   ]
  },
  {
   "cell_type": "code",
   "execution_count": 5,
   "id": "9f744c4a-fdf8-4442-a4f8-6cb102aa7788",
   "metadata": {
    "scrolled": true
   },
   "outputs": [
    {
     "data": {
      "text/plain": [
       "400000"
      ]
     },
     "execution_count": 5,
     "metadata": {},
     "output_type": "execute_result"
    }
   ],
   "source": [
    "len(labeled_images)"
   ]
  },
  {
   "cell_type": "code",
   "execution_count": 6,
   "id": "8e0f948a-6782-484c-a8c3-e1f8585ca336",
   "metadata": {},
   "outputs": [
    {
     "data": {
      "text/plain": [
       "25000"
      ]
     },
     "execution_count": 6,
     "metadata": {},
     "output_type": "execute_result"
    }
   ],
   "source": [
    "sum(label == 1 for label in labeled_images.values())"
   ]
  },
  {
   "cell_type": "code",
   "execution_count": 7,
   "id": "cc653b3f-7653-40a1-8d68-e159c0595cb6",
   "metadata": {},
   "outputs": [],
   "source": [
    "import random\n",
    "\n",
    "resumes = [path for path, label in labeled_images.items() if label == 1]\n",
    "non_resumes = [path for path, label in labeled_images.items() if label == 0]\n",
    "\n",
    "balanced_non_resumes = random.sample(non_resumes, len(resumes))\n",
    "# Creating a new dictionary to be used as input into the CNN"
   ]
  },
  {
   "cell_type": "code",
   "execution_count": 8,
   "id": "6dfa53d2-09e8-40aa-bebc-b15339ac08b7",
   "metadata": {},
   "outputs": [],
   "source": [
    "bal_labeled_images = {path: 1 for path in resumes}\n",
    "bal_labeled_images.update({path: 0 for path in balanced_non_resumes})"
   ]
  },
  {
   "cell_type": "code",
   "execution_count": 9,
   "id": "90bdc89c-402f-4e73-9282-a4e10c230fd1",
   "metadata": {
    "scrolled": true
   },
   "outputs": [
    {
     "data": {
      "text/plain": [
       "50000"
      ]
     },
     "execution_count": 9,
     "metadata": {},
     "output_type": "execute_result"
    }
   ],
   "source": [
    "len(bal_labeled_images)"
   ]
  },
  {
   "cell_type": "code",
   "execution_count": 10,
   "id": "003066b4-4eaf-4661-86b7-2fded7b034ab",
   "metadata": {},
   "outputs": [],
   "source": [
    "import numpy as np\n",
    "from typing import List, Tuple\n",
    "from skimage.io import imread\n",
    "from skimage.color import rgb2gray\n",
    "from skimage.transform import resize\n",
    "\n",
    "class ImageVectorizer:\n",
    "    def __init__(self, dims: Tuple[int, int]) -> None:\n",
    "        self.dims = dims\n",
    "    \n",
    "    def convert_image_to_array(\n",
    "        self, image_path: str\n",
    "    ) -> np.ndarray:\n",
    "        image_array = imread(image_path)\n",
    "        if len(image_array.shape) == 3: #rgb image\n",
    "            image_array = rgb2gray(image_array)\n",
    "        image_array = resize(\n",
    "            image_array, (self.dims[0], self.dims[1]),\n",
    "            anti_aliasing=True    \n",
    "        )\n",
    "        if image_array.ndim == 2:\n",
    "            image_array = np.expand_dims(image_array, axis=-1)\n",
    "        return image_array.astype(np.float32)\n",
    "\n",
    "    def extract_features_from_images(\n",
    "    \n",
    "        self, image_paths: List[str]\n",
    "    ) -> np.ndarray:\n",
    "        \"\"\"Extracts features from a list of images.\n",
    "\n",
    "        Args:\n",
    "            image_paths (List[str]): A list of images \n",
    "\n",
    "        Returns:\n",
    "            np.ndarray: Features of the images\n",
    "        \"\"\"\n",
    "        num_images = len(image_paths)\n",
    "        # initialize with zeros\n",
    "        image_features = np.zeros(\n",
    "            (num_images, self.dims[0], self.dims[1], 1),\n",
    "            dtype=np.float32\n",
    "        )\n",
    "        for idx, img_path in enumerate(image_paths):\n",
    "            image_features[idx] = self.convert_image_to_array(img_path)\n",
    "        return image_features"
   ]
  },
  {
   "cell_type": "code",
   "execution_count": 11,
   "id": "b3db625b-6fa1-4d33-b148-62a34f158a04",
   "metadata": {},
   "outputs": [],
   "source": [
    "from typing import Dict\n",
    "def extract_features_and_labels(\n",
    "    labeled_images: Dict[str, int], vectorizer: ImageVectorizer\n",
    ")-> Tuple[np.ndarray, np.ndarray]:\n",
    "    image_paths = list(labeled_images.keys())\n",
    "    labels = list(labeled_images.values())\n",
    "    # Extract features\n",
    "    image_features = vectorizer.extract_features_from_images(image_paths)\n",
    "    #split the data into test and training datasets\n",
    "    X_train, X_test, y_train, y_test = train_test_split(\n",
    "        image_features, labels, test_size=0.2, random_state=42\n",
    "    )\n",
    "    y_train = np.array(y_train, dtype=np.int32)\n",
    "    y_test = np.array(y_test, dtype=np.int32)\n",
    "    return X_train, X_test, y_train, y_test  "
   ]
  },
  {
   "cell_type": "code",
   "execution_count": 12,
   "id": "ea6ac075-eddc-4b0b-9713-b256e1db1510",
   "metadata": {},
   "outputs": [],
   "source": [
    "dims = (256, 256)\n",
    "img_vectorizer = ImageVectorizer(dims=dims)"
   ]
  },
  {
   "cell_type": "code",
   "execution_count": 13,
   "id": "8b089d7a-78b3-4a6c-967e-ca8ed80890eb",
   "metadata": {},
   "outputs": [],
   "source": [
    "from sklearn.model_selection import train_test_split\n",
    "X_train, X_test, y_train, y_test = extract_features_and_labels(\n",
    "    bal_labeled_images, img_vectorizer\n",
    ")"
   ]
  },
  {
   "cell_type": "code",
   "execution_count": 14,
   "id": "be744953-00c1-4bc7-a510-9e2ce8de8a63",
   "metadata": {},
   "outputs": [],
   "source": [
    "from tensorflow.keras import models, layers, optimizers, callbacks\n",
    "\n",
    "\n",
    "class ResumeClassifierCNNModel:\n",
    "    def __init__(self, image_shape, checkpoint_dir):\n",
    "        self.image_shape = image_shape\n",
    "        self.checkpoint_dir = checkpoint_dir\n",
    "        self.model = self._build_model()\n",
    "        self._compile_model()\n",
    "        \n",
    "    def _build_model(self):\n",
    "        model = models.Sequential([\n",
    "            layers.Input(shape=self.image_shape),\n",
    "            \n",
    "            layers.Conv2D(16, (3, 3), padding='same', activation='relu'),\n",
    "            layers.MaxPooling2D((2, 2), padding='same'),\n",
    "            layers.Dropout(0.2),\n",
    "            \n",
    "            layers.Conv2D(32, (3, 3), padding='same', activation='relu'),\n",
    "            layers.MaxPooling2D((2, 2), padding='same'),\n",
    "            layers.Dropout(0.3),\n",
    "            \n",
    "            layers.GlobalAveragePooling2D(),\n",
    "            \n",
    "            layers.Dense(1, activation='sigmoid')\n",
    "        ])\n",
    "        return model\n",
    "\n",
    "\n",
    "    def _compile_model(self):\n",
    "        optimizer = optimizers.Adam(learning_rate=0.00005)\n",
    "        self.model.compile(\n",
    "            optimizer=optimizer, loss='binary_crossentropy', \n",
    "            metrics=['accuracy']\n",
    "            )\n",
    "        os.makedirs(self.checkpoint_dir, exist_ok=True)\n",
    "        checkpoint_filepath = os.path.join(self.checkpoint_dir, 'resumeModel_best.keras')\n",
    "\n",
    "        self.callbacks = [\n",
    "            callbacks.EarlyStopping(monitor='val_loss', patience=10, verbose=1),\n",
    "            callbacks.ModelCheckpoint(\n",
    "                filepath=checkpoint_filepath,\n",
    "                monitor='val_loss',\n",
    "                save_best_only=True,\n",
    "                verbose=1\n",
    "            )\n",
    "        ]\n",
    "    \n",
    "    def get_model(self):\n",
    "        return self.model"
   ]
  },
  {
   "cell_type": "code",
   "execution_count": 15,
   "id": "196b2a4a-197f-48f3-ab42-259c7a0ce4a2",
   "metadata": {
    "scrolled": true
   },
   "outputs": [
    {
     "name": "stdout",
     "output_type": "stream",
     "text": [
      "Epoch 1/20\n",
      "\u001b[1m1250/1250\u001b[0m \u001b[32m━━━━━━━━━━━━━━━━━━━━\u001b[0m\u001b[37m\u001b[0m \u001b[1m0s\u001b[0m 222ms/step - accuracy: 0.5546 - loss: 0.6898\n",
      "Epoch 1: val_loss improved from inf to 0.67069, saving model to /Users/abraham/Documents/Work/Self/2024/resumeClassification/models/resumeModel_best.keras\n",
      "\u001b[1m1250/1250\u001b[0m \u001b[32m━━━━━━━━━━━━━━━━━━━━\u001b[0m\u001b[37m\u001b[0m \u001b[1m296s\u001b[0m 236ms/step - accuracy: 0.5547 - loss: 0.6898 - val_accuracy: 0.7226 - val_loss: 0.6707\n",
      "Epoch 2/20\n",
      "\u001b[1m1250/1250\u001b[0m \u001b[32m━━━━━━━━━━━━━━━━━━━━\u001b[0m\u001b[37m\u001b[0m \u001b[1m0s\u001b[0m 218ms/step - accuracy: 0.6719 - loss: 0.6645\n",
      "Epoch 2: val_loss improved from 0.67069 to 0.64243, saving model to /Users/abraham/Documents/Work/Self/2024/resumeClassification/models/resumeModel_best.keras\n",
      "\u001b[1m1250/1250\u001b[0m \u001b[32m━━━━━━━━━━━━━━━━━━━━\u001b[0m\u001b[37m\u001b[0m \u001b[1m288s\u001b[0m 230ms/step - accuracy: 0.6719 - loss: 0.6645 - val_accuracy: 0.7364 - val_loss: 0.6424\n",
      "Epoch 3/20\n",
      "\u001b[1m1250/1250\u001b[0m \u001b[32m━━━━━━━━━━━━━━━━━━━━\u001b[0m\u001b[37m\u001b[0m \u001b[1m0s\u001b[0m 212ms/step - accuracy: 0.7206 - loss: 0.6379\n",
      "Epoch 3: val_loss improved from 0.64243 to 0.61497, saving model to /Users/abraham/Documents/Work/Self/2024/resumeClassification/models/resumeModel_best.keras\n",
      "\u001b[1m1250/1250\u001b[0m \u001b[32m━━━━━━━━━━━━━━━━━━━━\u001b[0m\u001b[37m\u001b[0m \u001b[1m282s\u001b[0m 225ms/step - accuracy: 0.7206 - loss: 0.6379 - val_accuracy: 0.7652 - val_loss: 0.6150\n",
      "Epoch 4/20\n",
      "\u001b[1m1250/1250\u001b[0m \u001b[32m━━━━━━━━━━━━━━━━━━━━\u001b[0m\u001b[37m\u001b[0m \u001b[1m0s\u001b[0m 217ms/step - accuracy: 0.7483 - loss: 0.6120\n",
      "Epoch 4: val_loss improved from 0.61497 to 0.58794, saving model to /Users/abraham/Documents/Work/Self/2024/resumeClassification/models/resumeModel_best.keras\n",
      "\u001b[1m1250/1250\u001b[0m \u001b[32m━━━━━━━━━━━━━━━━━━━━\u001b[0m\u001b[37m\u001b[0m \u001b[1m286s\u001b[0m 229ms/step - accuracy: 0.7483 - loss: 0.6120 - val_accuracy: 0.7519 - val_loss: 0.5879\n",
      "Epoch 5/20\n",
      "\u001b[1m1250/1250\u001b[0m \u001b[32m━━━━━━━━━━━━━━━━━━━━\u001b[0m\u001b[37m\u001b[0m \u001b[1m0s\u001b[0m 213ms/step - accuracy: 0.7644 - loss: 0.5861\n",
      "Epoch 5: val_loss improved from 0.58794 to 0.56225, saving model to /Users/abraham/Documents/Work/Self/2024/resumeClassification/models/resumeModel_best.keras\n",
      "\u001b[1m1250/1250\u001b[0m \u001b[32m━━━━━━━━━━━━━━━━━━━━\u001b[0m\u001b[37m\u001b[0m \u001b[1m282s\u001b[0m 226ms/step - accuracy: 0.7644 - loss: 0.5861 - val_accuracy: 0.7761 - val_loss: 0.5623\n",
      "Epoch 6/20\n",
      "\u001b[1m1250/1250\u001b[0m \u001b[32m━━━━━━━━━━━━━━━━━━━━\u001b[0m\u001b[37m\u001b[0m \u001b[1m0s\u001b[0m 219ms/step - accuracy: 0.7706 - loss: 0.5628\n",
      "Epoch 6: val_loss improved from 0.56225 to 0.53938, saving model to /Users/abraham/Documents/Work/Self/2024/resumeClassification/models/resumeModel_best.keras\n",
      "\u001b[1m1250/1250\u001b[0m \u001b[32m━━━━━━━━━━━━━━━━━━━━\u001b[0m\u001b[37m\u001b[0m \u001b[1m291s\u001b[0m 233ms/step - accuracy: 0.7706 - loss: 0.5628 - val_accuracy: 0.7751 - val_loss: 0.5394\n",
      "Epoch 7/20\n",
      "\u001b[1m1250/1250\u001b[0m \u001b[32m━━━━━━━━━━━━━━━━━━━━\u001b[0m\u001b[37m\u001b[0m \u001b[1m0s\u001b[0m 190ms/step - accuracy: 0.7714 - loss: 0.5399\n",
      "Epoch 7: val_loss improved from 0.53938 to 0.52226, saving model to /Users/abraham/Documents/Work/Self/2024/resumeClassification/models/resumeModel_best.keras\n",
      "\u001b[1m1250/1250\u001b[0m \u001b[32m━━━━━━━━━━━━━━━━━━━━\u001b[0m\u001b[37m\u001b[0m \u001b[1m250s\u001b[0m 200ms/step - accuracy: 0.7714 - loss: 0.5399 - val_accuracy: 0.7778 - val_loss: 0.5223\n",
      "Epoch 8/20\n",
      "\u001b[1m1250/1250\u001b[0m \u001b[32m━━━━━━━━━━━━━━━━━━━━\u001b[0m\u001b[37m\u001b[0m \u001b[1m0s\u001b[0m 148ms/step - accuracy: 0.7719 - loss: 0.5288\n",
      "Epoch 8: val_loss improved from 0.52226 to 0.50771, saving model to /Users/abraham/Documents/Work/Self/2024/resumeClassification/models/resumeModel_best.keras\n",
      "\u001b[1m1250/1250\u001b[0m \u001b[32m━━━━━━━━━━━━━━━━━━━━\u001b[0m\u001b[37m\u001b[0m \u001b[1m200s\u001b[0m 160ms/step - accuracy: 0.7719 - loss: 0.5288 - val_accuracy: 0.7765 - val_loss: 0.5077\n",
      "Epoch 9/20\n",
      "\u001b[1m1250/1250\u001b[0m \u001b[32m━━━━━━━━━━━━━━━━━━━━\u001b[0m\u001b[37m\u001b[0m \u001b[1m0s\u001b[0m 226ms/step - accuracy: 0.7725 - loss: 0.5159\n",
      "Epoch 9: val_loss improved from 0.50771 to 0.49779, saving model to /Users/abraham/Documents/Work/Self/2024/resumeClassification/models/resumeModel_best.keras\n",
      "\u001b[1m1250/1250\u001b[0m \u001b[32m━━━━━━━━━━━━━━━━━━━━\u001b[0m\u001b[37m\u001b[0m \u001b[1m299s\u001b[0m 240ms/step - accuracy: 0.7725 - loss: 0.5159 - val_accuracy: 0.7796 - val_loss: 0.4978\n",
      "Epoch 10/20\n",
      "\u001b[1m1250/1250\u001b[0m \u001b[32m━━━━━━━━━━━━━━━━━━━━\u001b[0m\u001b[37m\u001b[0m \u001b[1m0s\u001b[0m 232ms/step - accuracy: 0.7788 - loss: 0.5046\n",
      "Epoch 10: val_loss improved from 0.49779 to 0.48958, saving model to /Users/abraham/Documents/Work/Self/2024/resumeClassification/models/resumeModel_best.keras\n",
      "\u001b[1m1250/1250\u001b[0m \u001b[32m━━━━━━━━━━━━━━━━━━━━\u001b[0m\u001b[37m\u001b[0m \u001b[1m308s\u001b[0m 246ms/step - accuracy: 0.7788 - loss: 0.5046 - val_accuracy: 0.7808 - val_loss: 0.4896\n",
      "Epoch 11/20\n",
      "\u001b[1m1250/1250\u001b[0m \u001b[32m━━━━━━━━━━━━━━━━━━━━\u001b[0m\u001b[37m\u001b[0m \u001b[1m0s\u001b[0m 238ms/step - accuracy: 0.7722 - loss: 0.5051\n",
      "Epoch 11: val_loss improved from 0.48958 to 0.48276, saving model to /Users/abraham/Documents/Work/Self/2024/resumeClassification/models/resumeModel_best.keras\n",
      "\u001b[1m1250/1250\u001b[0m \u001b[32m━━━━━━━━━━━━━━━━━━━━\u001b[0m\u001b[37m\u001b[0m \u001b[1m314s\u001b[0m 251ms/step - accuracy: 0.7722 - loss: 0.5051 - val_accuracy: 0.7847 - val_loss: 0.4828\n",
      "Epoch 12/20\n",
      "\u001b[1m1250/1250\u001b[0m \u001b[32m━━━━━━━━━━━━━━━━━━━━\u001b[0m\u001b[37m\u001b[0m \u001b[1m0s\u001b[0m 230ms/step - accuracy: 0.7783 - loss: 0.4961\n",
      "Epoch 12: val_loss improved from 0.48276 to 0.47757, saving model to /Users/abraham/Documents/Work/Self/2024/resumeClassification/models/resumeModel_best.keras\n",
      "\u001b[1m1250/1250\u001b[0m \u001b[32m━━━━━━━━━━━━━━━━━━━━\u001b[0m\u001b[37m\u001b[0m \u001b[1m305s\u001b[0m 244ms/step - accuracy: 0.7784 - loss: 0.4961 - val_accuracy: 0.7869 - val_loss: 0.4776\n",
      "Epoch 13/20\n",
      "\u001b[1m1250/1250\u001b[0m \u001b[32m━━━━━━━━━━━━━━━━━━━━\u001b[0m\u001b[37m\u001b[0m \u001b[1m0s\u001b[0m 230ms/step - accuracy: 0.7830 - loss: 0.4908\n",
      "Epoch 13: val_loss improved from 0.47757 to 0.47227, saving model to /Users/abraham/Documents/Work/Self/2024/resumeClassification/models/resumeModel_best.keras\n",
      "\u001b[1m1250/1250\u001b[0m \u001b[32m━━━━━━━━━━━━━━━━━━━━\u001b[0m\u001b[37m\u001b[0m \u001b[1m305s\u001b[0m 244ms/step - accuracy: 0.7830 - loss: 0.4908 - val_accuracy: 0.7905 - val_loss: 0.4723\n",
      "Epoch 14/20\n",
      "\u001b[1m1250/1250\u001b[0m \u001b[32m━━━━━━━━━━━━━━━━━━━━\u001b[0m\u001b[37m\u001b[0m \u001b[1m0s\u001b[0m 226ms/step - accuracy: 0.7862 - loss: 0.4866\n",
      "Epoch 14: val_loss improved from 0.47227 to 0.46770, saving model to /Users/abraham/Documents/Work/Self/2024/resumeClassification/models/resumeModel_best.keras\n",
      "\u001b[1m1250/1250\u001b[0m \u001b[32m━━━━━━━━━━━━━━━━━━━━\u001b[0m\u001b[37m\u001b[0m \u001b[1m299s\u001b[0m 239ms/step - accuracy: 0.7862 - loss: 0.4866 - val_accuracy: 0.7932 - val_loss: 0.4677\n",
      "Epoch 15/20\n",
      "\u001b[1m1250/1250\u001b[0m \u001b[32m━━━━━━━━━━━━━━━━━━━━\u001b[0m\u001b[37m\u001b[0m \u001b[1m0s\u001b[0m 224ms/step - accuracy: 0.7894 - loss: 0.4798\n",
      "Epoch 15: val_loss improved from 0.46770 to 0.46403, saving model to /Users/abraham/Documents/Work/Self/2024/resumeClassification/models/resumeModel_best.keras\n",
      "\u001b[1m1250/1250\u001b[0m \u001b[32m━━━━━━━━━━━━━━━━━━━━\u001b[0m\u001b[37m\u001b[0m \u001b[1m296s\u001b[0m 237ms/step - accuracy: 0.7894 - loss: 0.4798 - val_accuracy: 0.7946 - val_loss: 0.4640\n",
      "Epoch 16/20\n",
      "\u001b[1m1250/1250\u001b[0m \u001b[32m━━━━━━━━━━━━━━━━━━━━\u001b[0m\u001b[37m\u001b[0m \u001b[1m0s\u001b[0m 224ms/step - accuracy: 0.7915 - loss: 0.4731\n",
      "Epoch 16: val_loss improved from 0.46403 to 0.46102, saving model to /Users/abraham/Documents/Work/Self/2024/resumeClassification/models/resumeModel_best.keras\n",
      "\u001b[1m1250/1250\u001b[0m \u001b[32m━━━━━━━━━━━━━━━━━━━━\u001b[0m\u001b[37m\u001b[0m \u001b[1m297s\u001b[0m 238ms/step - accuracy: 0.7915 - loss: 0.4731 - val_accuracy: 0.7986 - val_loss: 0.4610\n",
      "Epoch 17/20\n",
      "\u001b[1m1250/1250\u001b[0m \u001b[32m━━━━━━━━━━━━━━━━━━━━\u001b[0m\u001b[37m\u001b[0m \u001b[1m0s\u001b[0m 196ms/step - accuracy: 0.7900 - loss: 0.4768\n",
      "Epoch 17: val_loss improved from 0.46102 to 0.45897, saving model to /Users/abraham/Documents/Work/Self/2024/resumeClassification/models/resumeModel_best.keras\n",
      "\u001b[1m1250/1250\u001b[0m \u001b[32m━━━━━━━━━━━━━━━━━━━━\u001b[0m\u001b[37m\u001b[0m \u001b[1m260s\u001b[0m 208ms/step - accuracy: 0.7900 - loss: 0.4768 - val_accuracy: 0.8006 - val_loss: 0.4590\n",
      "Epoch 18/20\n",
      "\u001b[1m1250/1250\u001b[0m \u001b[32m━━━━━━━━━━━━━━━━━━━━\u001b[0m\u001b[37m\u001b[0m \u001b[1m0s\u001b[0m 188ms/step - accuracy: 0.7978 - loss: 0.4700\n",
      "Epoch 18: val_loss improved from 0.45897 to 0.45372, saving model to /Users/abraham/Documents/Work/Self/2024/resumeClassification/models/resumeModel_best.keras\n",
      "\u001b[1m1250/1250\u001b[0m \u001b[32m━━━━━━━━━━━━━━━━━━━━\u001b[0m\u001b[37m\u001b[0m \u001b[1m250s\u001b[0m 200ms/step - accuracy: 0.7978 - loss: 0.4700 - val_accuracy: 0.8023 - val_loss: 0.4537\n",
      "Epoch 19/20\n",
      "\u001b[1m1250/1250\u001b[0m \u001b[32m━━━━━━━━━━━━━━━━━━━━\u001b[0m\u001b[37m\u001b[0m \u001b[1m0s\u001b[0m 187ms/step - accuracy: 0.7943 - loss: 0.4731\n",
      "Epoch 19: val_loss improved from 0.45372 to 0.45068, saving model to /Users/abraham/Documents/Work/Self/2024/resumeClassification/models/resumeModel_best.keras\n",
      "\u001b[1m1250/1250\u001b[0m \u001b[32m━━━━━━━━━━━━━━━━━━━━\u001b[0m\u001b[37m\u001b[0m \u001b[1m249s\u001b[0m 199ms/step - accuracy: 0.7943 - loss: 0.4731 - val_accuracy: 0.8041 - val_loss: 0.4507\n",
      "Epoch 20/20\n",
      "\u001b[1m1250/1250\u001b[0m \u001b[32m━━━━━━━━━━━━━━━━━━━━\u001b[0m\u001b[37m\u001b[0m \u001b[1m0s\u001b[0m 193ms/step - accuracy: 0.7961 - loss: 0.4657\n",
      "Epoch 20: val_loss improved from 0.45068 to 0.44817, saving model to /Users/abraham/Documents/Work/Self/2024/resumeClassification/models/resumeModel_best.keras\n",
      "\u001b[1m1250/1250\u001b[0m \u001b[32m━━━━━━━━━━━━━━━━━━━━\u001b[0m\u001b[37m\u001b[0m \u001b[1m256s\u001b[0m 205ms/step - accuracy: 0.7961 - loss: 0.4657 - val_accuracy: 0.8059 - val_loss: 0.4482\n"
     ]
    },
    {
     "data": {
      "text/plain": [
       "<keras.src.callbacks.history.History at 0x327da2f60>"
      ]
     },
     "execution_count": 15,
     "metadata": {},
     "output_type": "execute_result"
    }
   ],
   "source": [
    "batch_size = 32\n",
    "epochs = 20\n",
    "image_shape = (dims[0], dims[1], 1)\n",
    "checkpoint_dir = os.path.join(PROJECT_DIR, 'models')\n",
    "resume_model = ResumeClassifierCNNModel(image_shape, checkpoint_dir)\n",
    "model = resume_model.get_model()\n",
    "model.fit(\n",
    "    X_train, y_train, batch_size=batch_size, epochs=epochs, \n",
    "    validation_data=(X_test, y_test), shuffle=True, callbacks=resume_model.callbacks\n",
    ")"
   ]
  },
  {
   "cell_type": "code",
   "execution_count": 16,
   "id": "e69016b8-6ef0-476d-a693-a9fbaa3706bb",
   "metadata": {},
   "outputs": [
    {
     "name": "stdout",
     "output_type": "stream",
     "text": [
      "\u001b[1m313/313\u001b[0m \u001b[32m━━━━━━━━━━━━━━━━━━━━\u001b[0m\u001b[37m\u001b[0m \u001b[1m14s\u001b[0m 45ms/step\n",
      "Accuracy: 0.8059\n",
      "Precision: 0.7965351299326275\n",
      "Recall: 0.8239745121465551\n",
      "F1 Score: 0.8100225115004405\n"
     ]
    }
   ],
   "source": [
    "from tensorflow.keras.models import load_model\n",
    "from sklearn.metrics import (\n",
    "    accuracy_score, precision_score, recall_score, f1_score, confusion_matrix\n",
    ")\n",
    "import numpy as np\n",
    "import seaborn as sns\n",
    "import matplotlib.pyplot as plt\n",
    "\n",
    "loaded_model = load_model(os.path.join(checkpoint_dir, 'resumeModel_best.keras'))\n",
    "y_pred_probs = model.predict(X_test)\n",
    "y_pred = (y_pred_probs > 0.5).astype('int32')\n",
    "# Calculate metrics\n",
    "accuracy = accuracy_score(y_test, y_pred)\n",
    "precision = precision_score(y_test, y_pred)\n",
    "recall = recall_score(y_test, y_pred)\n",
    "f1 = f1_score(y_test, y_pred)\n",
    "\n",
    "print(f'Accuracy: {accuracy}')\n",
    "print(f'Precision: {precision}')\n",
    "print(f'Recall: {recall}')\n",
    "print(f'F1 Score: {f1}')"
   ]
  },
  {
   "cell_type": "code",
   "execution_count": 17,
   "id": "9dbf8a19-e07b-4d29-b1dc-39077fb57f95",
   "metadata": {},
   "outputs": [
    {
     "data": {
      "image/png": "[encoded data removed]",
      "text/plain": [
       "<Figure size 640x480 with 2 Axes>"
      ]
     },
     "metadata": {},
     "output_type": "display_data"
    }
   ],
   "source": [
    "# Generating and visualizing the confusion matrix\n",
    "conf_matrix = confusion_matrix(y_test, y_pred)\n",
    "sns.heatmap(conf_matrix, annot=True, fmt=\"d\")\n",
    "plt.xlabel('Predicted')\n",
    "plt.ylabel('True')\n",
    "plt.title('Confusion Matrix')\n",
    "plt.show()"
   ]
  },
  {
   "cell_type": "code",
   "execution_count": null,
   "id": "22816160-5da8-4245-b311-877fa23bd1da",
   "metadata": {},
   "outputs": [],
   "source": []
  },
  {
   "cell_type": "code",
   "execution_count": null,
   "id": "b472a49a-689e-4312-864a-fd9d27604148",
   "metadata": {},
   "outputs": [],
   "source": []
  }
 ],
 "metadata": {
  "kernelspec": {
   "display_name": "Python 3 (ipykernel)",
   "language": "python",
   "name": "python3"
  },
  "language_info": {
   "codemirror_mode": {
    "name": "ipython",
    "version": 3
   },
   "file_extension": ".py",
   "mimetype": "text/x-python",
   "name": "python",
   "nbconvert_exporter": "python",
   "pygments_lexer": "ipython3",
   "version": "3.12.2"
  }
 },
 "nbformat": 4,
 "nbformat_minor": 5
}
